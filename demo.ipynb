version https://git-lfs.github.com/spec/v1
oid sha256:5ede167764b0ca13c7a27a4a095620c31fb7954aec9684adaebf73bda7d275a9
size 25120
